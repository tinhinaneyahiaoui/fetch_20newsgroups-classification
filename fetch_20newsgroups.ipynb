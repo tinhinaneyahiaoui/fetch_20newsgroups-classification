{
 "cells": [
  {
   "cell_type": "markdown",
   "metadata": {},
   "source": [
    "# PROJET \n",
    "\n",
    "\n",
    "## Data Analysis and Text Mining \n",
    "\n",
    "\n",
    "\n",
    "\n"
   ]
  },
  {
   "cell_type": "code",
   "execution_count": 1,
   "metadata": {},
   "outputs": [],
   "source": [
    "#Bibliothéques utilisées "
   ]
  },
  {
   "cell_type": "code",
   "execution_count": 30,
   "metadata": {},
   "outputs": [],
   "source": [
    "from sklearn.feature_extraction.text import TfidfTransformer\n",
    "from sklearn.feature_extraction.text import CountVectorizer\n",
    "from sklearn.naive_bayes import MultinomialNB\n",
    "from sklearn.datasets import fetch_20newsgroups\n",
    "from sklearn.preprocessing import LabelEncoder\n",
    "import pandas as pd\n",
    "from sklearn.metrics import confusion_matrix, classification_report,accuracy_score\n",
    "from matplotlib import pyplot as plt\n",
    "from sklearn import datasets\n",
    "\n",
    "import numpy as np"
   ]
  },
  {
   "cell_type": "markdown",
   "metadata": {},
   "source": [
    "# 1. Text Processing and Transformation"
   ]
  },
  {
   "cell_type": "code",
   "execution_count": null,
   "metadata": {},
   "outputs": [],
   "source": [
    "#specifications de 4 categories\n",
    "categories =  ['alt.atheism', 'soc.religion.christian',\n",
    "                  'comp.graphics', 'sci.med']\n",
    "\n",
    "#Importer les données \n",
    "#definir le train et le test \n",
    "twenty_train = fetch_20newsgroups(subset='train',\n",
    "        categories=categories, shuffle=True, random_state=42)\n",
    "\n",
    "test = fetch_20newsgroups(subset='test', categories=categories,shuffle=True,random_state=42)"
   ]
  },
  {
   "cell_type": "markdown",
   "metadata": {},
   "source": [
    "###  Tokenisation de texte\n",
    "Étant donné que l'ensemble de données est une série de mots, avant d'exécuter des algorithmes d'apprentissage automatique, nous devons convertir les représentations de texte en représentations numériques"
   ]
  },
  {
   "cell_type": "code",
   "execution_count": 31,
   "metadata": {},
   "outputs": [],
   "source": [
    "doc_test=test.data\n",
    "\n",
    "#initialiser count_vector pour calculer le nombre de mot\n",
    "vector_count = CountVectorizer()\n",
    "X_train_counts = vector_count.fit_transform(twenty_train.data)\n",
    "\n",
    "# transformer les données en vecteurs \n",
    "tfidf_transformer = TfidfTransformer()\n",
    "X_train_tfidf = tfidf_transformer.fit_transform(X_train_counts)\n",
    "\n",
    " \n",
    "# afficher les valeurs de idf \n",
    "df_idf = pd.DataFrame(tfidf_transformer.idf_, index=vector_count.get_feature_names(),columns=[\"idf_weights\"])\n",
    "\n",
    "X_train_tfidf.shape\n",
    "\n",
    "\n",
    "\n",
    "\n",
    "test_counts = vector_count.transform(doc_test)\n",
    "\n",
    "test_tfidf=tfidf_transformer.transform(test_counts)\n",
    "\n",
    "\n",
    "clf = MultinomialNB().fit(X_train_tfidf, twenty_train.target)\n",
    "        \n",
    "predicted=clf.predict(test_tfidf)\n"
   ]
  },
  {
   "cell_type": "code",
   "execution_count": null,
   "metadata": {},
   "outputs": [],
   "source": []
  },
  {
   "cell_type": "code",
   "execution_count": 32,
   "metadata": {},
   "outputs": [
    {
     "data": {
      "text/html": [
       "<div>\n",
       "<style scoped>\n",
       "    .dataframe tbody tr th:only-of-type {\n",
       "        vertical-align: middle;\n",
       "    }\n",
       "\n",
       "    .dataframe tbody tr th {\n",
       "        vertical-align: top;\n",
       "    }\n",
       "\n",
       "    .dataframe thead th {\n",
       "        text-align: right;\n",
       "    }\n",
       "</style>\n",
       "<table border=\"1\" class=\"dataframe\">\n",
       "  <thead>\n",
       "    <tr style=\"text-align: right;\">\n",
       "      <th></th>\n",
       "      <th>idf_weights</th>\n",
       "    </tr>\n",
       "  </thead>\n",
       "  <tbody>\n",
       "    <tr>\n",
       "      <th>from</th>\n",
       "      <td>1.000000</td>\n",
       "    </tr>\n",
       "    <tr>\n",
       "      <th>subject</th>\n",
       "      <td>1.000000</td>\n",
       "    </tr>\n",
       "    <tr>\n",
       "      <th>lines</th>\n",
       "      <td>1.003994</td>\n",
       "    </tr>\n",
       "    <tr>\n",
       "      <th>the</th>\n",
       "      <td>1.055545</td>\n",
       "    </tr>\n",
       "    <tr>\n",
       "      <th>organization</th>\n",
       "      <td>1.057419</td>\n",
       "    </tr>\n",
       "    <tr>\n",
       "      <th>to</th>\n",
       "      <td>1.084037</td>\n",
       "    </tr>\n",
       "    <tr>\n",
       "      <th>of</th>\n",
       "      <td>1.086448</td>\n",
       "    </tr>\n",
       "    <tr>\n",
       "      <th>in</th>\n",
       "      <td>1.127854</td>\n",
       "    </tr>\n",
       "    <tr>\n",
       "      <th>and</th>\n",
       "      <td>1.134418</td>\n",
       "    </tr>\n",
       "    <tr>\n",
       "      <th>is</th>\n",
       "      <td>1.188541</td>\n",
       "    </tr>\n",
       "    <tr>\n",
       "      <th>that</th>\n",
       "      <td>1.256007</td>\n",
       "    </tr>\n",
       "    <tr>\n",
       "      <th>it</th>\n",
       "      <td>1.262320</td>\n",
       "    </tr>\n",
       "    <tr>\n",
       "      <th>re</th>\n",
       "      <td>1.302854</td>\n",
       "    </tr>\n",
       "    <tr>\n",
       "      <th>for</th>\n",
       "      <td>1.313098</td>\n",
       "    </tr>\n",
       "    <tr>\n",
       "      <th>edu</th>\n",
       "      <td>1.338867</td>\n",
       "    </tr>\n",
       "    <tr>\n",
       "      <th>this</th>\n",
       "      <td>1.421087</td>\n",
       "    </tr>\n",
       "    <tr>\n",
       "      <th>be</th>\n",
       "      <td>1.442226</td>\n",
       "    </tr>\n",
       "    <tr>\n",
       "      <th>have</th>\n",
       "      <td>1.469472</td>\n",
       "    </tr>\n",
       "    <tr>\n",
       "      <th>not</th>\n",
       "      <td>1.482302</td>\n",
       "    </tr>\n",
       "    <tr>\n",
       "      <th>you</th>\n",
       "      <td>1.499669</td>\n",
       "    </tr>\n",
       "    <tr>\n",
       "      <th>on</th>\n",
       "      <td>1.521064</td>\n",
       "    </tr>\n",
       "    <tr>\n",
       "      <th>but</th>\n",
       "      <td>1.531559</td>\n",
       "    </tr>\n",
       "    <tr>\n",
       "      <th>are</th>\n",
       "      <td>1.546745</td>\n",
       "    </tr>\n",
       "    <tr>\n",
       "      <th>if</th>\n",
       "      <td>1.585752</td>\n",
       "    </tr>\n",
       "    <tr>\n",
       "      <th>with</th>\n",
       "      <td>1.586547</td>\n",
       "    </tr>\n",
       "    <tr>\n",
       "      <th>writes</th>\n",
       "      <td>1.587344</td>\n",
       "    </tr>\n",
       "    <tr>\n",
       "      <th>or</th>\n",
       "      <td>1.599368</td>\n",
       "    </tr>\n",
       "    <tr>\n",
       "      <th>as</th>\n",
       "      <td>1.634661</td>\n",
       "    </tr>\n",
       "    <tr>\n",
       "      <th>can</th>\n",
       "      <td>1.696696</td>\n",
       "    </tr>\n",
       "    <tr>\n",
       "      <th>there</th>\n",
       "      <td>1.740300</td>\n",
       "    </tr>\n",
       "    <tr>\n",
       "      <th>...</th>\n",
       "      <td>...</td>\n",
       "    </tr>\n",
       "    <tr>\n",
       "      <th>greating</th>\n",
       "      <td>8.029088</td>\n",
       "    </tr>\n",
       "    <tr>\n",
       "      <th>grd</th>\n",
       "      <td>8.029088</td>\n",
       "    </tr>\n",
       "    <tr>\n",
       "      <th>grazing</th>\n",
       "      <td>8.029088</td>\n",
       "    </tr>\n",
       "    <tr>\n",
       "      <th>graze</th>\n",
       "      <td>8.029088</td>\n",
       "    </tr>\n",
       "    <tr>\n",
       "      <th>greyscale</th>\n",
       "      <td>8.029088</td>\n",
       "    </tr>\n",
       "    <tr>\n",
       "      <th>gribskov</th>\n",
       "      <td>8.029088</td>\n",
       "    </tr>\n",
       "    <tr>\n",
       "      <th>gridded</th>\n",
       "      <td>8.029088</td>\n",
       "    </tr>\n",
       "    <tr>\n",
       "      <th>gridding</th>\n",
       "      <td>8.029088</td>\n",
       "    </tr>\n",
       "    <tr>\n",
       "      <th>gromi</th>\n",
       "      <td>8.029088</td>\n",
       "    </tr>\n",
       "    <tr>\n",
       "      <th>grok11</th>\n",
       "      <td>8.029088</td>\n",
       "    </tr>\n",
       "    <tr>\n",
       "      <th>groink</th>\n",
       "      <td>8.029088</td>\n",
       "    </tr>\n",
       "    <tr>\n",
       "      <th>groetnis</th>\n",
       "      <td>8.029088</td>\n",
       "    </tr>\n",
       "    <tr>\n",
       "      <th>grocery</th>\n",
       "      <td>8.029088</td>\n",
       "    </tr>\n",
       "    <tr>\n",
       "      <th>grobner</th>\n",
       "      <td>8.029088</td>\n",
       "    </tr>\n",
       "    <tr>\n",
       "      <th>groaning</th>\n",
       "      <td>8.029088</td>\n",
       "    </tr>\n",
       "    <tr>\n",
       "      <th>grm</th>\n",
       "      <td>8.029088</td>\n",
       "    </tr>\n",
       "    <tr>\n",
       "      <th>grizzly</th>\n",
       "      <td>8.029088</td>\n",
       "    </tr>\n",
       "    <tr>\n",
       "      <th>goer</th>\n",
       "      <td>8.029088</td>\n",
       "    </tr>\n",
       "    <tr>\n",
       "      <th>gritty</th>\n",
       "      <td>8.029088</td>\n",
       "    </tr>\n",
       "    <tr>\n",
       "      <th>grinnell</th>\n",
       "      <td>8.029088</td>\n",
       "    </tr>\n",
       "    <tr>\n",
       "      <th>grinding</th>\n",
       "      <td>8.029088</td>\n",
       "    </tr>\n",
       "    <tr>\n",
       "      <th>grimms</th>\n",
       "      <td>8.029088</td>\n",
       "    </tr>\n",
       "    <tr>\n",
       "      <th>grilling</th>\n",
       "      <td>8.029088</td>\n",
       "    </tr>\n",
       "    <tr>\n",
       "      <th>grifters</th>\n",
       "      <td>8.029088</td>\n",
       "    </tr>\n",
       "    <tr>\n",
       "      <th>griffiths</th>\n",
       "      <td>8.029088</td>\n",
       "    </tr>\n",
       "    <tr>\n",
       "      <th>griffin</th>\n",
       "      <td>8.029088</td>\n",
       "    </tr>\n",
       "    <tr>\n",
       "      <th>grievance</th>\n",
       "      <td>8.029088</td>\n",
       "    </tr>\n",
       "    <tr>\n",
       "      <th>grids</th>\n",
       "      <td>8.029088</td>\n",
       "    </tr>\n",
       "    <tr>\n",
       "      <th>gripes</th>\n",
       "      <td>8.029088</td>\n",
       "    </tr>\n",
       "    <tr>\n",
       "      <th>íålittin</th>\n",
       "      <td>8.029088</td>\n",
       "    </tr>\n",
       "  </tbody>\n",
       "</table>\n",
       "<p>35788 rows × 1 columns</p>\n",
       "</div>"
      ],
      "text/plain": [
       "              idf_weights\n",
       "from             1.000000\n",
       "subject          1.000000\n",
       "lines            1.003994\n",
       "the              1.055545\n",
       "organization     1.057419\n",
       "to               1.084037\n",
       "of               1.086448\n",
       "in               1.127854\n",
       "and              1.134418\n",
       "is               1.188541\n",
       "that             1.256007\n",
       "it               1.262320\n",
       "re               1.302854\n",
       "for              1.313098\n",
       "edu              1.338867\n",
       "this             1.421087\n",
       "be               1.442226\n",
       "have             1.469472\n",
       "not              1.482302\n",
       "you              1.499669\n",
       "on               1.521064\n",
       "but              1.531559\n",
       "are              1.546745\n",
       "if               1.585752\n",
       "with             1.586547\n",
       "writes           1.587344\n",
       "or               1.599368\n",
       "as               1.634661\n",
       "can              1.696696\n",
       "there            1.740300\n",
       "...                   ...\n",
       "greating         8.029088\n",
       "grd              8.029088\n",
       "grazing          8.029088\n",
       "graze            8.029088\n",
       "greyscale        8.029088\n",
       "gribskov         8.029088\n",
       "gridded          8.029088\n",
       "gridding         8.029088\n",
       "gromi            8.029088\n",
       "grok11           8.029088\n",
       "groink           8.029088\n",
       "groetnis         8.029088\n",
       "grocery          8.029088\n",
       "grobner          8.029088\n",
       "groaning         8.029088\n",
       "grm              8.029088\n",
       "grizzly          8.029088\n",
       "goer             8.029088\n",
       "gritty           8.029088\n",
       "grinnell         8.029088\n",
       "grinding         8.029088\n",
       "grimms           8.029088\n",
       "grilling         8.029088\n",
       "grifters         8.029088\n",
       "griffiths        8.029088\n",
       "griffin          8.029088\n",
       "grievance        8.029088\n",
       "grids            8.029088\n",
       "gripes           8.029088\n",
       "íålittin         8.029088\n",
       "\n",
       "[35788 rows x 1 columns]"
      ]
     },
     "execution_count": 32,
     "metadata": {},
     "output_type": "execute_result"
    }
   ],
   "source": [
    "# Afficher les vocabulaires avec leur poids \n",
    "df_idf.sort_values(by=['idf_weights'])\n"
   ]
  },
  {
   "cell_type": "markdown",
   "metadata": {},
   "source": [
    "# 2 : visualiation\n"
   ]
  },
  {
   "cell_type": "code",
   "execution_count": 33,
   "metadata": {},
   "outputs": [
    {
     "data": {
      "image/png": "[encoded data removed]",
      "text/plain": [
       "<Figure size 720x720 with 1 Axes>"
      ]
     },
     "metadata": {},
     "output_type": "display_data"
    }
   ],
   "source": [
    "# visualisation de catégorie des articles \n",
    "figure = plt.figure(figsize=(10, 10))\n",
    "\n",
    "targets, sizes = np.unique(twenty_train.target, return_counts=True)\n",
    "target_names = [twenty_train.target_names[i] for i in targets]\n",
    "\n",
    "patches, _, _ = plt.pie(sizes, autopct='%1.1f%%', wedgeprops={'alpha': 0.8})\n",
    "\n",
    "plt.legend(patches, target_names, loc=(1, 0.0))\n",
    "\n",
    "plt.axis('equal')\n",
    "plt.show()"
   ]
  },
  {
   "cell_type": "code",
   "execution_count": 34,
   "metadata": {},
   "outputs": [],
   "source": [
    "# conversion en dataframe pour une analyse exploratoire plus facile\n",
    "\n",
    "data=pd.DataFrame(twenty_train['data'])\n",
    "target = pd.DataFrame(twenty_train['target'])\n",
    "data.columns=['data']\n",
    "data['target']=target\n",
    "twenty_train = data"
   ]
  },
  {
   "cell_type": "code",
   "execution_count": 35,
   "metadata": {
    "scrolled": false
   },
   "outputs": [
    {
     "data": {
      "text/html": [
       "<div>\n",
       "<style scoped>\n",
       "    .dataframe tbody tr th:only-of-type {\n",
       "        vertical-align: middle;\n",
       "    }\n",
       "\n",
       "    .dataframe tbody tr th {\n",
       "        vertical-align: top;\n",
       "    }\n",
       "\n",
       "    .dataframe thead th {\n",
       "        text-align: right;\n",
       "    }\n",
       "</style>\n",
       "<table border=\"1\" class=\"dataframe\">\n",
       "  <thead>\n",
       "    <tr style=\"text-align: right;\">\n",
       "      <th></th>\n",
       "      <th>data</th>\n",
       "      <th>target</th>\n",
       "    </tr>\n",
       "  </thead>\n",
       "  <tbody>\n",
       "    <tr>\n",
       "      <th>0</th>\n",
       "      <td>From: sd345@city.ac.uk (Michael Collier)\\nSubj...</td>\n",
       "      <td>1</td>\n",
       "    </tr>\n",
       "    <tr>\n",
       "      <th>1</th>\n",
       "      <td>From: ani@ms.uky.edu (Aniruddha B. Deglurkar)\\...</td>\n",
       "      <td>1</td>\n",
       "    </tr>\n",
       "    <tr>\n",
       "      <th>2</th>\n",
       "      <td>From: djohnson@cs.ucsd.edu (Darin Johnson)\\nSu...</td>\n",
       "      <td>3</td>\n",
       "    </tr>\n",
       "    <tr>\n",
       "      <th>3</th>\n",
       "      <td>From: s0612596@let.rug.nl (M.M. Zwart)\\nSubjec...</td>\n",
       "      <td>3</td>\n",
       "    </tr>\n",
       "    <tr>\n",
       "      <th>4</th>\n",
       "      <td>From: stanly@grok11.columbiasc.ncr.com (stanly...</td>\n",
       "      <td>3</td>\n",
       "    </tr>\n",
       "    <tr>\n",
       "      <th>5</th>\n",
       "      <td>From: vbv@lor.eeap.cwru.edu (Virgilio (Dean) B...</td>\n",
       "      <td>3</td>\n",
       "    </tr>\n",
       "    <tr>\n",
       "      <th>6</th>\n",
       "      <td>From: jodfishe@silver.ucs.indiana.edu (joseph ...</td>\n",
       "      <td>3</td>\n",
       "    </tr>\n",
       "    <tr>\n",
       "      <th>7</th>\n",
       "      <td>From: aldridge@netcom.com (Jacquelin Aldridge)...</td>\n",
       "      <td>2</td>\n",
       "    </tr>\n",
       "    <tr>\n",
       "      <th>8</th>\n",
       "      <td>From: geb@cs.pitt.edu (Gordon Banks)\\nSubject:...</td>\n",
       "      <td>2</td>\n",
       "    </tr>\n",
       "    <tr>\n",
       "      <th>9</th>\n",
       "      <td>From: libman@hsc.usc.edu (Marlena Libman)\\nSub...</td>\n",
       "      <td>2</td>\n",
       "    </tr>\n",
       "  </tbody>\n",
       "</table>\n",
       "</div>"
      ],
      "text/plain": [
       "                                                data  target\n",
       "0  From: sd345@city.ac.uk (Michael Collier)\\nSubj...       1\n",
       "1  From: ani@ms.uky.edu (Aniruddha B. Deglurkar)\\...       1\n",
       "2  From: djohnson@cs.ucsd.edu (Darin Johnson)\\nSu...       3\n",
       "3  From: s0612596@let.rug.nl (M.M. Zwart)\\nSubjec...       3\n",
       "4  From: stanly@grok11.columbiasc.ncr.com (stanly...       3\n",
       "5  From: vbv@lor.eeap.cwru.edu (Virgilio (Dean) B...       3\n",
       "6  From: jodfishe@silver.ucs.indiana.edu (joseph ...       3\n",
       "7  From: aldridge@netcom.com (Jacquelin Aldridge)...       2\n",
       "8  From: geb@cs.pitt.edu (Gordon Banks)\\nSubject:...       2\n",
       "9  From: libman@hsc.usc.edu (Marlena Libman)\\nSub...       2"
      ]
     },
     "execution_count": 35,
     "metadata": {},
     "output_type": "execute_result"
    }
   ],
   "source": [
    "twenty_train[0:10]"
   ]
  },
  {
   "cell_type": "raw",
   "metadata": {},
   "source": [
    "Nous allons maintenant vérifier la distribution de la longueur des données, en termes de mots dans notre jeu de données.¶\n"
   ]
  },
  {
   "cell_type": "code",
   "execution_count": 36,
   "metadata": {
    "scrolled": true
   },
   "outputs": [
    {
     "data": {
      "image/png": "[encoded data removed]",
      "text/plain": [
       "<Figure size 432x288 with 1 Axes>"
      ]
     },
     "metadata": {
      "needs_background": "light"
     },
     "output_type": "display_data"
    }
   ],
   "source": [
    "length_data = twenty_train['data'].str.len() # taille de données \n",
    "#length_test = test['data'].str.len() # taille de données \n",
    "\n",
    "plt.hist(length_data, bins=20, label=\"data_length\",range=[0,10000])\n",
    "#plt.hist(length_test,  bins=20, label=\"test_tweets\")\n",
    "plt.legend() #la légénde \n",
    "plt.show()"
   ]
  },
  {
   "cell_type": "code",
   "execution_count": null,
   "metadata": {
    "scrolled": true
   },
   "outputs": [],
   "source": []
  },
  {
   "cell_type": "markdown",
   "metadata": {},
   "source": [
    "# visualisation via NMF (Catégorie ) \n"
   ]
  },
  {
   "cell_type": "code",
   "execution_count": 37,
   "metadata": {},
   "outputs": [],
   "source": [
    "# On visualise les distributions des 4 catégories via NMF"
   ]
  },
  {
   "cell_type": "code",
   "execution_count": 38,
   "metadata": {},
   "outputs": [],
   "source": [
    "from sklearn.decomposition import PCA\n",
    "from matplotlib import pyplot"
   ]
  },
  {
   "cell_type": "code",
   "execution_count": 39,
   "metadata": {},
   "outputs": [
    {
     "data": {
      "text/plain": [
       "<matplotlib.collections.PathCollection at 0x7f3ae28b6d50>"
      ]
     },
     "execution_count": 39,
     "metadata": {},
     "output_type": "execute_result"
    },
    {
     "data": {
      "image/png": "[encoded data removed]",
      "text/plain": [
       "<Figure size 432x288 with 1 Axes>"
      ]
     },
     "metadata": {
      "needs_background": "light"
     },
     "output_type": "display_data"
    },
    {
     "data": {
      "image/png": "[encoded data removed]",
      "text/plain": [
       "<Figure size 432x288 with 1 Axes>"
      ]
     },
     "metadata": {
      "needs_background": "light"
     },
     "output_type": "display_data"
    }
   ],
   "source": [
    "from sklearn.decomposition import NMF\n",
    "\n",
    "nmf = NMF(n_components=2)\n",
    "NF = nmf.fit_transform(test_tfidf)\n",
    "plt.figure()\n",
    "plt.scatter(NF[:,0],NF[:,1],c=test.target)\n",
    "plt.figure()\n",
    "plt.scatter(NF[:,0],NF[:,1],c=predicted)"
   ]
  },
  {
   "cell_type": "markdown",
   "metadata": {},
   "source": [
    "# Matrice de correlation "
   ]
  },
  {
   "cell_type": "code",
   "execution_count": 40,
   "metadata": {},
   "outputs": [
    {
     "name": "stdout",
     "output_type": "stream",
     "text": [
      "                        precision    recall  f1-score   support\n",
      "\n",
      "           alt.atheism       0.97      0.60      0.74       319\n",
      "         comp.graphics       0.96      0.89      0.92       389\n",
      "               sci.med       0.97      0.81      0.88       396\n",
      "soc.religion.christian       0.65      0.99      0.78       398\n",
      "\n",
      "              accuracy                           0.83      1502\n",
      "             macro avg       0.89      0.82      0.83      1502\n",
      "          weighted avg       0.88      0.83      0.84      1502\n",
      "\n",
      "accuracy  0.8348868175765646\n"
     ]
    }
   ],
   "source": [
    "from sklearn import metrics\n",
    "import seaborn as sns\n",
    "import pandas \n",
    "from io import StringIO\n",
    "\n",
    "\n",
    "\n",
    "df = metrics.classification_report(test.target, predicted,\n",
    "     target_names=test.target_names)\n",
    "\n",
    "accuracy = metrics.accuracy_score(test.target, predicted)\n",
    "\n",
    "print(df)\n",
    "\n",
    "print('accuracy ' ,accuracy)\n"
   ]
  },
  {
   "cell_type": "code",
   "execution_count": 46,
   "metadata": {},
   "outputs": [
    {
     "ename": "AttributeError",
     "evalue": "'DataFrame' object has no attribute 'target_names'",
     "output_type": "error",
     "traceback": [
      "\u001b[0;31m---------------------------------------------------------------------------\u001b[0m",
      "\u001b[0;31mAttributeError\u001b[0m                            Traceback (most recent call last)",
      "\u001b[0;32m<ipython-input-46-74601157c46a>\u001b[0m in \u001b[0;36m<module>\u001b[0;34m\u001b[0m\n\u001b[1;32m      3\u001b[0m \u001b[0mfig\u001b[0m\u001b[0;34m,\u001b[0m \u001b[0max\u001b[0m \u001b[0;34m=\u001b[0m \u001b[0mplt\u001b[0m\u001b[0;34m.\u001b[0m\u001b[0msubplots\u001b[0m\u001b[0;34m(\u001b[0m\u001b[0mfigsize\u001b[0m\u001b[0;34m=\u001b[0m\u001b[0;34m(\u001b[0m\u001b[0;36m10\u001b[0m\u001b[0;34m,\u001b[0m\u001b[0;36m10\u001b[0m\u001b[0;34m)\u001b[0m\u001b[0;34m)\u001b[0m\u001b[0;34m\u001b[0m\u001b[0;34m\u001b[0m\u001b[0m\n\u001b[1;32m      4\u001b[0m sns.heatmap(cm, annot=True, fmt='d',\n\u001b[0;32m----> 5\u001b[0;31m             xticklabels=twenty_train.target_names, yticklabels=twenty_train.target)\n\u001b[0m\u001b[1;32m      6\u001b[0m \u001b[0mplt\u001b[0m\u001b[0;34m.\u001b[0m\u001b[0mylabel\u001b[0m\u001b[0;34m(\u001b[0m\u001b[0;34m'Actual'\u001b[0m\u001b[0;34m)\u001b[0m\u001b[0;34m\u001b[0m\u001b[0;34m\u001b[0m\u001b[0m\n\u001b[1;32m      7\u001b[0m \u001b[0mplt\u001b[0m\u001b[0;34m.\u001b[0m\u001b[0mxlabel\u001b[0m\u001b[0;34m(\u001b[0m\u001b[0;34m'Predicted'\u001b[0m\u001b[0;34m)\u001b[0m\u001b[0;34m\u001b[0m\u001b[0;34m\u001b[0m\u001b[0m\n",
      "\u001b[0;32m~/.local/lib/python3.7/site-packages/pandas/core/generic.py\u001b[0m in \u001b[0;36m__getattr__\u001b[0;34m(self, name)\u001b[0m\n\u001b[1;32m   4374\u001b[0m             \u001b[0;32mif\u001b[0m \u001b[0mself\u001b[0m\u001b[0;34m.\u001b[0m\u001b[0m_info_axis\u001b[0m\u001b[0;34m.\u001b[0m\u001b[0m_can_hold_identifiers_and_holds_name\u001b[0m\u001b[0;34m(\u001b[0m\u001b[0mname\u001b[0m\u001b[0;34m)\u001b[0m\u001b[0;34m:\u001b[0m\u001b[0;34m\u001b[0m\u001b[0;34m\u001b[0m\u001b[0m\n\u001b[1;32m   4375\u001b[0m                 \u001b[0;32mreturn\u001b[0m \u001b[0mself\u001b[0m\u001b[0;34m[\u001b[0m\u001b[0mname\u001b[0m\u001b[0;34m]\u001b[0m\u001b[0;34m\u001b[0m\u001b[0;34m\u001b[0m\u001b[0m\n\u001b[0;32m-> 4376\u001b[0;31m             \u001b[0;32mreturn\u001b[0m \u001b[0mobject\u001b[0m\u001b[0;34m.\u001b[0m\u001b[0m__getattribute__\u001b[0m\u001b[0;34m(\u001b[0m\u001b[0mself\u001b[0m\u001b[0;34m,\u001b[0m \u001b[0mname\u001b[0m\u001b[0;34m)\u001b[0m\u001b[0;34m\u001b[0m\u001b[0;34m\u001b[0m\u001b[0m\n\u001b[0m\u001b[1;32m   4377\u001b[0m \u001b[0;34m\u001b[0m\u001b[0m\n\u001b[1;32m   4378\u001b[0m     \u001b[0;32mdef\u001b[0m \u001b[0m__setattr__\u001b[0m\u001b[0;34m(\u001b[0m\u001b[0mself\u001b[0m\u001b[0;34m,\u001b[0m \u001b[0mname\u001b[0m\u001b[0;34m,\u001b[0m \u001b[0mvalue\u001b[0m\u001b[0;34m)\u001b[0m\u001b[0;34m:\u001b[0m\u001b[0;34m\u001b[0m\u001b[0;34m\u001b[0m\u001b[0m\n",
      "\u001b[0;31mAttributeError\u001b[0m: 'DataFrame' object has no attribute 'target_names'"
     ]
    },
    {
     "data": {
      "image/png": "[encoded data removed]",
      "text/plain": [
       "<Figure size 720x720 with 1 Axes>"
      ]
     },
     "metadata": {
      "needs_background": "light"
     },
     "output_type": "display_data"
    }
   ],
   "source": [
    "# Plot de la matrice de confusion \n",
    "cm = metrics.confusion_matrix(test.target, predicted)\n",
    "fig, ax = plt.subplots(figsize=(10,10))\n",
    "sns.heatmap(cm, annot=True, fmt='d',\n",
    "            xticklabels=twenty_train.target_names, yticklabels=twenty_train.target)\n",
    "plt.ylabel('Actual')\n",
    "plt.xlabel('Predicted')\n",
    "plt.show()\n",
    "plt.show()\n",
    "\n"
   ]
  },
  {
   "cell_type": "markdown",
   "metadata": {},
   "source": [
    "# afficher les tailles de train et test "
   ]
  },
  {
   "cell_type": "code",
   "execution_count": 10,
   "metadata": {},
   "outputs": [
    {
     "name": "stdout",
     "output_type": "stream",
     "text": [
      " 2257 documents,    4.498 MB (train)\n",
      " 1502 documents,    3.342 MB (test)\n"
     ]
    }
   ],
   "source": [
    "def size_mb(docs):\n",
    "    return sum(len(s.encode('utf-8')) for s in docs) / 10 ** 6\n",
    "\n",
    "train_dataset_size_mb = size_mb(twenty_train.data)\n",
    "test_dataset_size_mb = size_mb(test.data) \n",
    "\n",
    "print(f'{len(twenty_train.data):5d} documents,  {train_dataset_size_mb:7.3f} MB (train)')\n",
    "print(f'{len(test.data):5d} documents,  {test_dataset_size_mb:7.3f} MB (test)')\n"
   ]
  },
  {
   "cell_type": "markdown",
   "metadata": {},
   "source": [
    "# type de données : un tableau ndarray"
   ]
  },
  {
   "cell_type": "code",
   "execution_count": 11,
   "metadata": {
    "scrolled": true
   },
   "outputs": [
    {
     "data": {
      "text/plain": [
       "numpy.ndarray"
      ]
     },
     "execution_count": 11,
     "metadata": {},
     "output_type": "execute_result"
    }
   ],
   "source": [
    "type(X_train_tfidf.data)"
   ]
  },
  {
   "cell_type": "markdown",
   "metadata": {},
   "source": [
    "# 3 - Machine learning  "
   ]
  },
  {
   "cell_type": "markdown",
   "metadata": {},
   "source": [
    "# SVM"
   ]
  },
  {
   "cell_type": "code",
   "execution_count": 12,
   "metadata": {},
   "outputs": [],
   "source": [
    "#importer les bibliotheque pour faire de l'apprentissage\n",
    "import numpy as np\n",
    "from sklearn.naive_bayes import MultinomialNB\n",
    "from sklearn.pipeline import Pipeline\n",
    "from sklearn.linear_model import SGDClassifier\n"
   ]
  },
  {
   "cell_type": "code",
   "execution_count": 13,
   "metadata": {},
   "outputs": [
    {
     "name": "stdout",
     "output_type": "stream",
     "text": [
      "SVM Accuracy:\n",
      "0.9114513981358189\n"
     ]
    }
   ],
   "source": [
    "#SVM Implementation\n",
    "\n",
    "text_clf=Pipeline([('vect',CountVectorizer()),('tfidf',TfidfTransformer()),('clf',SGDClassifier(loss='hinge',alpha=1e-3,random_state=42))])\n",
    "text_clf.fit(twenty_train.data,twenty_train.target)\n",
    "\n",
    "predicted=text_clf.predict(doc_test)\n",
    "\n",
    "#afficher l'accuracy\n",
    "print(\"SVM Accuracy:\")\n",
    "print(np.mean(predicted==test.target))"
   ]
  },
  {
   "cell_type": "markdown",
   "metadata": {},
   "source": [
    "# Naive bayes"
   ]
  },
  {
   "cell_type": "code",
   "execution_count": 14,
   "metadata": {},
   "outputs": [
    {
     "name": "stdout",
     "output_type": "stream",
     "text": [
      "'God is love' => 3\n",
      "'OpenGL on the GPU is fast' => 1\n"
     ]
    }
   ],
   "source": [
    "from sklearn.naive_bayes import MultinomialNB\n",
    "from sklearn.metrics import confusion_matrix, classification_report,accuracy_score\n",
    "\n",
    "clf = MultinomialNB().fit(X_train_tfidf, twenty_train.target)\n",
    "\n",
    "docs_new = ['God is love', 'OpenGL on the GPU is fast']\n",
    "X_new_counts = vector_count.transform(docs_new)\n",
    "X_new_tfidf = tfidf_transformer.transform(X_new_counts)\n",
    "\n",
    "predicted = clf.predict(X_new_tfidf)\n",
    "\n",
    "for doc, category in zip(docs_new, predicted):\n",
    "       print('%r => %s' % (doc, twenty_train.target[category]))\n",
    "        \n"
   ]
  },
  {
   "cell_type": "code",
   "execution_count": 44,
   "metadata": {},
   "outputs": [
    {
     "data": {
      "text/plain": [
       "0.8348868175765646"
      ]
     },
     "execution_count": 44,
     "metadata": {},
     "output_type": "execute_result"
    }
   ],
   "source": [
    "accuracy_score(test.target, predicted)"
   ]
  },
  {
   "cell_type": "code",
   "execution_count": 45,
   "metadata": {},
   "outputs": [
    {
     "name": "stdout",
     "output_type": "stream",
     "text": [
      "report classification:\n",
      "               precision    recall  f1-score   support\n",
      "\n",
      "           0       0.60      0.97      0.74       198\n",
      "           1       0.89      0.96      0.92       362\n",
      "           2       0.81      0.97      0.88       333\n",
      "           3       0.99      0.65      0.78       609\n",
      "\n",
      "    accuracy                           0.83      1502\n",
      "   macro avg       0.82      0.89      0.83      1502\n",
      "weighted avg       0.87      0.83      0.83      1502\n",
      " \n",
      "\n",
      "Matrice de confusion:\n",
      " [[192   2   2   2]\n",
      " [  2 347  11   2]\n",
      " [  6   4 322   1]\n",
      " [119  36  61 393]]\n"
     ]
    }
   ],
   "source": [
    "print('report classification:\\n',classification_report(predicted, test.target),'\\n')\n",
    "print('Matrice de confusion:\\n',confusion_matrix(predicted,test.target))\n"
   ]
  },
  {
   "cell_type": "markdown",
   "metadata": {},
   "source": [
    "# k plus proche voisin (kNN)"
   ]
  },
  {
   "cell_type": "code",
   "execution_count": 18,
   "metadata": {},
   "outputs": [
    {
     "data": {
      "text/plain": [
       "0.7656458055925432"
      ]
     },
     "execution_count": 18,
     "metadata": {},
     "output_type": "execute_result"
    }
   ],
   "source": [
    "from sklearn.neighbors import KNeighborsClassifier \n",
    "\n",
    "\n",
    "model = KNeighborsClassifier().fit(X_train_tfidf, twenty_train.target)\n",
    "predicted = model.predict(test_tfidf)\n",
    "accuracy_score(test.target,predicted)"
   ]
  },
  {
   "cell_type": "code",
   "execution_count": 19,
   "metadata": {},
   "outputs": [
    {
     "name": "stdout",
     "output_type": "stream",
     "text": [
      "report classification:\n",
      "               precision    recall  f1-score   support\n",
      "\n",
      "           0       0.87      0.58      0.70       477\n",
      "           1       0.79      0.91      0.85       338\n",
      "           2       0.58      0.89      0.70       260\n",
      "           3       0.84      0.78      0.81       427\n",
      "\n",
      "    accuracy                           0.77      1502\n",
      "   macro avg       0.77      0.79      0.76      1502\n",
      "weighted avg       0.79      0.77      0.76      1502\n",
      " \n",
      "\n",
      "Matrice de confusion:\n",
      " [[277  53  93  54]\n",
      " [  3 309  24   2]\n",
      " [  9  11 231   9]\n",
      " [ 30  16  48 333]]\n"
     ]
    }
   ],
   "source": [
    "print('report classification:\\n',classification_report(predicted, test.target),'\\n')\n",
    "print('Matrice de confusion:\\n',confusion_matrix(predicted,test.target))\n"
   ]
  },
  {
   "cell_type": "markdown",
   "metadata": {},
   "source": [
    "# logistic regression"
   ]
  },
  {
   "cell_type": "code",
   "execution_count": 20,
   "metadata": {},
   "outputs": [
    {
     "name": "stdout",
     "output_type": "stream",
     "text": [
      "0.9067909454061251\n"
     ]
    }
   ],
   "source": [
    "from sklearn.feature_extraction.text import TfidfVectorizer\n",
    "from sklearn.linear_model import LogisticRegression\n",
    "\n",
    "text_clf = Pipeline([\n",
    "        ('vect', TfidfVectorizer(stop_words='english', ngram_range = (1,2), binary = True, sublinear_tf=True)), \n",
    "        ('clf', LogisticRegression())]) \n",
    "\n",
    "text_clf.fit(twenty_train.data, twenty_train.target)\n",
    "print(text_clf.score(test.data, test.target))\n"
   ]
  },
  {
   "cell_type": "code",
   "execution_count": 21,
   "metadata": {
    "scrolled": true
   },
   "outputs": [
    {
     "data": {
      "text/plain": [
       "0       1\n",
       "1       1\n",
       "2       3\n",
       "3       3\n",
       "4       3\n",
       "5       3\n",
       "6       3\n",
       "7       2\n",
       "8       2\n",
       "9       2\n",
       "10      3\n",
       "11      1\n",
       "12      0\n",
       "13      0\n",
       "14      1\n",
       "15      1\n",
       "16      2\n",
       "17      0\n",
       "18      3\n",
       "19      0\n",
       "20      3\n",
       "21      0\n",
       "22      3\n",
       "23      1\n",
       "24      1\n",
       "25      1\n",
       "26      3\n",
       "27      3\n",
       "28      2\n",
       "29      2\n",
       "       ..\n",
       "2227    0\n",
       "2228    0\n",
       "2229    3\n",
       "2230    3\n",
       "2231    0\n",
       "2232    1\n",
       "2233    0\n",
       "2234    0\n",
       "2235    2\n",
       "2236    1\n",
       "2237    0\n",
       "2238    2\n",
       "2239    2\n",
       "2240    2\n",
       "2241    1\n",
       "2242    1\n",
       "2243    2\n",
       "2244    2\n",
       "2245    2\n",
       "2246    3\n",
       "2247    3\n",
       "2248    1\n",
       "2249    3\n",
       "2250    0\n",
       "2251    2\n",
       "2252    2\n",
       "2253    2\n",
       "2254    2\n",
       "2255    2\n",
       "2256    2\n",
       "Name: target, Length: 2257, dtype: int64"
      ]
     },
     "execution_count": 21,
     "metadata": {},
     "output_type": "execute_result"
    }
   ],
   "source": [
    "twenty_train.target"
   ]
  },
  {
   "cell_type": "code",
   "execution_count": null,
   "metadata": {},
   "outputs": [],
   "source": []
  },
  {
   "cell_type": "markdown",
   "metadata": {},
   "source": [
    "# Decision tree"
   ]
  },
  {
   "cell_type": "code",
   "execution_count": 22,
   "metadata": {},
   "outputs": [],
   "source": [
    "from sklearn import tree\n",
    "from sklearn.metrics import confusion_matrix, classification_report,accuracy_score\n",
    "Mtree = tree.DecisionTreeClassifier()\n",
    "Mtree.fit(X_train_tfidf, twenty_train.target)\n",
    "predicted = Mtree.predict(test_tfidf)"
   ]
  },
  {
   "cell_type": "code",
   "execution_count": 23,
   "metadata": {},
   "outputs": [
    {
     "name": "stdout",
     "output_type": "stream",
     "text": [
      "Accuracy:  0.7197070572569907 \n",
      "\n",
      "Erreur :  0.2802929427430093 \n",
      "\n"
     ]
    }
   ],
   "source": [
    "print('Accuracy: ',accuracy_score(predicted,test.target),'\\n')\n",
    "errortree=np.mean(predicted != test.target)\n",
    "print('Erreur : ', errortree,'\\n')"
   ]
  },
  {
   "cell_type": "code",
   "execution_count": 24,
   "metadata": {},
   "outputs": [
    {
     "name": "stdout",
     "output_type": "stream",
     "text": [
      "report classification:\n",
      "               precision    recall  f1-score   support\n",
      "\n",
      "           0       0.65      0.66      0.65       314\n",
      "           1       0.81      0.71      0.76       448\n",
      "           2       0.59      0.69      0.64       339\n",
      "           3       0.81      0.81      0.81       401\n",
      "\n",
      "    accuracy                           0.72      1502\n",
      "   macro avg       0.72      0.72      0.71      1502\n",
      "weighted avg       0.73      0.72      0.72      1502\n",
      " \n",
      "\n",
      "Matrice de confusion:\n",
      " [[206  21  55  32]\n",
      " [ 27 317  83  21]\n",
      " [ 38  46 234  21]\n",
      " [ 48   5  24 324]]\n"
     ]
    }
   ],
   "source": [
    "print('report classification:\\n',classification_report(predicted, test.target),'\\n')\n",
    "print('Matrice de confusion:\\n',confusion_matrix(predicted,test.target))"
   ]
  },
  {
   "cell_type": "markdown",
   "metadata": {},
   "source": [
    "# Random forest "
   ]
  },
  {
   "cell_type": "code",
   "execution_count": 25,
   "metadata": {},
   "outputs": [],
   "source": [
    "from sklearn.ensemble import RandomForestClassifier\n",
    "rfc = RandomForestClassifier(n_estimators=100,n_jobs=-1,max_features=24)\n",
    "rfc.fit(X_train_tfidf, twenty_train.target)\n",
    "ypredrfc = rfc.predict(test_tfidf)"
   ]
  },
  {
   "cell_type": "code",
   "execution_count": null,
   "metadata": {},
   "outputs": [],
   "source": []
  },
  {
   "cell_type": "code",
   "execution_count": 26,
   "metadata": {
    "scrolled": true
   },
   "outputs": [
    {
     "name": "stdout",
     "output_type": "stream",
     "text": [
      "Accuracy:  0.788948069241012 \n",
      "\n",
      "Erreur :  0.211051930758988 \n",
      "\n"
     ]
    }
   ],
   "source": [
    "print('Accuracy: ',accuracy_score(ypredrfc,test.target),'\\n')\n",
    "errorrfc=np.mean(ypredrfc != test.target)\n",
    "print('Erreur : ', errorrfc,'\\n')"
   ]
  },
  {
   "cell_type": "code",
   "execution_count": 27,
   "metadata": {},
   "outputs": [
    {
     "name": "stdout",
     "output_type": "stream",
     "text": [
      "report classification:\n",
      "               precision    recall  f1-score   support\n",
      "\n",
      "           0       0.61      0.93      0.74       208\n",
      "           1       0.98      0.68      0.80       557\n",
      "           2       0.62      0.92      0.74       267\n",
      "           3       0.92      0.78      0.84       470\n",
      "\n",
      "    accuracy                           0.79      1502\n",
      "   macro avg       0.78      0.83      0.78      1502\n",
      "weighted avg       0.84      0.79      0.79      1502\n",
      " \n",
      "\n",
      "Matrice de confusion:\n",
      " [[194   3   7   4]\n",
      " [ 25 380 128  24]\n",
      " [ 14   2 246   5]\n",
      " [ 86   4  15 365]]\n"
     ]
    }
   ],
   "source": [
    "print('report classification:\\n',classification_report(ypredrfc, test.target),'\\n')\n",
    "print('Matrice de confusion:\\n',confusion_matrix(ypredrfc,test.target))"
   ]
  },
  {
   "cell_type": "code",
   "execution_count": null,
   "metadata": {},
   "outputs": [],
   "source": []
  },
  {
   "cell_type": "markdown",
   "metadata": {},
   "source": [
    "# Conclusion "
   ]
  },
  {
   "cell_type": "code",
   "execution_count": null,
   "metadata": {},
   "outputs": [],
   "source": [
    "On remarque que l'algorithme SVM a le plus petit taux d'erreur par apport aux autres "
   ]
  }
 ],
 "metadata": {
  "kernelspec": {
   "display_name": "Python 3",
   "language": "python",
   "name": "python3"
  },
  "language_info": {
   "codemirror_mode": {
    "name": "ipython",
    "version": 3
   },
   "file_extension": ".py",
   "mimetype": "text/x-python",
   "name": "python",
   "nbconvert_exporter": "python",
   "pygments_lexer": "ipython3",
   "version": "3.7.6"
  }
 },
 "nbformat": 4,
 "nbformat_minor": 4
}
